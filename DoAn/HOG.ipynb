{
  "nbformat": 4,
  "nbformat_minor": 0,
  "metadata": {
    "colab": {
      "name": "HOG",
      "provenance": []
    },
    "kernelspec": {
      "name": "python3",
      "display_name": "Python 3"
    },
    "language_info": {
      "name": "python"
    }
  },
  "cells": [
    {
      "cell_type": "code",
      "execution_count": null,
      "metadata": {
        "colab": {
          "base_uri": "https://localhost:8080/"
        },
        "id": "y_FjtfvcbT_S",
        "outputId": "bc723053-2e62-43db-ca62-d86bb2c0638a"
      },
      "outputs": [
        {
          "output_type": "stream",
          "name": "stdout",
          "text": [
            "Drive already mounted at /content/drive; to attempt to forcibly remount, call drive.mount(\"/content/drive\", force_remount=True).\n"
          ]
        }
      ],
      "source": [
        "from google.colab import drive\n",
        "drive.mount('/content/drive')"
      ]
    },
    {
      "cell_type": "code",
      "source": [
        "from PIL import Image, ImageChops\n",
        "import cv2\n",
        "import numpy as np\n",
        "from skimage.feature import hog\n",
        "import os\n",
        "import pandas as pd"
      ],
      "metadata": {
        "id": "s6CzvcxfbaZN"
      },
      "execution_count": null,
      "outputs": []
    },
    {
      "cell_type": "code",
      "source": [
        "FJoin = os.path.join\n",
        "\n",
        "def getLink(path):\n",
        "    ans = []\n",
        "    label = []\n",
        "    index = 0\n",
        "    list_folder = [FJoin(path, f) for f in sorted(os.listdir(path))]\n",
        "    for f in list_folder:\n",
        "        list_img = [FJoin(f, img_id) for img_id in sorted(os.listdir(f))]\n",
        "        for img_link in list_img:\n",
        "            ans.append(img_link)\n",
        "            label.append(index)\n",
        "        index += 1\n",
        "    return ans, label"
      ],
      "metadata": {
        "id": "fGnepMUwbj3j"
      },
      "execution_count": null,
      "outputs": []
    },
    {
      "cell_type": "code",
      "source": [
        "train_path = '/content/drive/MyDrive/HK1_2021_2022/MachineLearning/DoAn/training_data'\n",
        "val_path = '/content/drive/MyDrive/HK1_2021_2022/MachineLearning/DoAn/val_data'\n",
        "test_path = '/content/drive/MyDrive/HK1_2021_2022/MachineLearning/DoAn/test_data'\n",
        "link_train, label_train = getLink(train_path)\n",
        "link_val, label_val = getLink(val_path)\n",
        "link_test, label_test = getLink(test_path)"
      ],
      "metadata": {
        "id": "nckryk6wbmdx"
      },
      "execution_count": null,
      "outputs": []
    },
    {
      "cell_type": "code",
      "source": [
        "def getFeature_Label(link, label):\n",
        "    list_feature = []\n",
        "    for img_link in link:\n",
        "        img = Image.open(img_link).convert('LA')\n",
        "        img = hog(img, pixels_per_cell=(2,2), cells_per_block=(2,2), visualize=False) \n",
        "        list_feature.append(np.asarray(img).ravel())\n",
        "    return np.array(list_feature), np.array(label)"
      ],
      "metadata": {
        "id": "CbAGxdS7b5CH"
      },
      "execution_count": null,
      "outputs": []
    },
    {
      "cell_type": "code",
      "source": [
        "X_train, Y_train = getFeature_Label(link_train, label_train)\n",
        "\n",
        "pd.DataFrame(X_train).to_csv('/content/drive/MyDrive/HK1_2021_2022/MachineLearning/DoAn/HOG/xtrain_HOG.csv', header= None, index=None)\n",
        "pd.DataFrame(Y_train).to_csv('/content/drive/MyDrive/HK1_2021_2022/MachineLearning/DoAn/HOG/ytrain_HOG.csv', header= None, index=None)"
      ],
      "metadata": {
        "id": "80bN6EYeb5E-"
      },
      "execution_count": null,
      "outputs": []
    },
    {
      "cell_type": "code",
      "source": [
        "X_val, Y_val = getFeature_Label(link_val, label_val)\n",
        "\n",
        "pd.DataFrame(X_val).to_csv('/content/drive/MyDrive/HK1_2021_2022/MachineLearning/DoAn/HOG/xval_HOG.csv', header= None, index=None)\n",
        "pd.DataFrame(Y_val).to_csv('/content/drive/MyDrive/HK1_2021_2022/MachineLearning/DoAn/HOG/yval_HOG.csv', header= None, index=None)"
      ],
      "metadata": {
        "id": "jobh_Bz7cBSQ"
      },
      "execution_count": null,
      "outputs": []
    },
    {
      "cell_type": "code",
      "source": [
        "X_test, Y_test = getFeature_Label(link_test, label_test)\n",
        "\n",
        "pd.DataFrame(X_test).to_csv('/content/drive/MyDrive/HK1_2021_2022/MachineLearning/DoAn/HOG/xtest_HOG.csv', header= None, index=None)\n",
        "pd.DataFrame(Y_test).to_csv('/content/drive/MyDrive/HK1_2021_2022/MachineLearning/DoAn/HOG/ytest_HOG.csv', header= None, index=None)"
      ],
      "metadata": {
        "id": "KF3vptfhcBl_"
      },
      "execution_count": null,
      "outputs": []
    }
  ]
}