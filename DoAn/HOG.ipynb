{
  "nbformat": 4,
  "nbformat_minor": 0,
  "metadata": {
    "colab": {
      "name": "HOG",
      "provenance": []
    },
    "kernelspec": {
      "name": "python3",
      "display_name": "Python 3"
    },
    "language_info": {
      "name": "python"
    }
  },
  "cells": [
    {
      "cell_type": "code",
      "execution_count": null,
      "metadata": {
        "colab": {
          "base_uri": "https://localhost:8080/"
        },
        "id": "y_FjtfvcbT_S",
        "outputId": "06e0ab6d-4e45-47bb-b524-9354144077a3"
      },
      "outputs": [
        {
          "output_type": "stream",
          "name": "stdout",
          "text": [
            "Mounted at /content/drive\n"
          ]
        }
      ],
      "source": [
        "from google.colab import drive\n",
        "drive.mount('/content/drive')"
      ]
    },
    {
      "cell_type": "code",
      "source": [
        "from PIL import Image, ImageChops\n",
        "import cv2\n",
        "import numpy as np\n",
        "from skimage.feature import hog\n",
        "import os\n",
        "import pandas as pd"
      ],
      "metadata": {
        "id": "s6CzvcxfbaZN"
      },
      "execution_count": null,
      "outputs": []
    },
    {
      "cell_type": "code",
      "source": [
        "FJoin = os.path.join\n",
        "\n",
        "def getLink(path):\n",
        "    ans = []\n",
        "    label = []\n",
        "    index = 0\n",
        "    list_folder = [FJoin(path, f) for f in sorted(os.listdir(path))]\n",
        "    for f in list_folder:\n",
        "        list_img = [FJoin(f, img_id) for img_id in sorted(os.listdir(f))]\n",
        "        for img_link in list_img:\n",
        "            ans.append(img_link)\n",
        "            label.append(index)\n",
        "        index += 1\n",
        "    return ans, label"
      ],
      "metadata": {
        "id": "fGnepMUwbj3j"
      },
      "execution_count": null,
      "outputs": []
    },
    {
      "cell_type": "code",
      "source": [
        "test_path = '/content/drive/MyDrive/HK1_2021_2022/MachineLearning/DoAn/rest_data'\n",
        "link_test, label_test = getLink(test_path)"
      ],
      "metadata": {
        "id": "nckryk6wbmdx"
      },
      "execution_count": null,
      "outputs": []
    },
    {
      "cell_type": "code",
      "source": [
        "def getFeature_Label(link, label):\n",
        "    list_feature = []\n",
        "    for img_link in link:\n",
        "        img = Image.open(img_link).convert('LA')\n",
        "        img = hog(img, pixels_per_cell=(2,2), cells_per_block=(2,2), visualize=False) \n",
        "        list_feature.append(np.asarray(img).ravel())\n",
        "    return np.array(list_feature), np.array(label)"
      ],
      "metadata": {
        "id": "CbAGxdS7b5CH"
      },
      "execution_count": null,
      "outputs": []
    },
    {
      "cell_type": "code",
      "source": [
        "X_test, Y_test = getFeature_Label(link_test, label_test)\n",
        "\n",
        "pd.DataFrame(X_test).to_csv('/content/drive/MyDrive/HK1_2021_2022/MachineLearning/DoAn/HOG/xtest_HOG2.csv', header= None, index=None)\n",
        "pd.DataFrame(Y_test).to_csv('/content/drive/MyDrive/HK1_2021_2022/MachineLearning/DoAn/HOG/ytest_HOG2.csv', header= None, index=None)"
      ],
      "metadata": {
        "id": "KF3vptfhcBl_"
      },
      "execution_count": null,
      "outputs": []
    }
  ]
}